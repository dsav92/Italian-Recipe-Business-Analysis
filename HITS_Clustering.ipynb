{
 "cells": [
  {
   "cell_type": "code",
   "execution_count": 1,
   "metadata": {},
   "outputs": [],
   "source": [
    "import pandas as pd\n",
    "import math\n",
    "import csv\n",
    "import time\n",
    "import matplotlib.pyplot as plt\n",
    "import numpy as np\n",
    "import scipy.stats as stats\n",
    "import pylab as plt\n",
    "import csv\n",
    "\n",
    "from scipy.stats import gaussian_kde\n",
    "from scipy.stats import powerlaw"
   ]
  },
  {
   "cell_type": "code",
   "execution_count": 2,
   "metadata": {},
   "outputs": [],
   "source": [
    "df = pd.read_csv('allgraph.csv', sep='\\t', header=None, encoding='utf-8', engine='python')"
   ]
  },
  {
   "cell_type": "code",
   "execution_count": 3,
   "metadata": {},
   "outputs": [],
   "source": [
    "graph = df.rename(columns={0:'KEYWORD',1:'POSITION',2:'SERP'})"
   ]
  },
  {
   "cell_type": "code",
   "execution_count": 4,
   "metadata": {},
   "outputs": [],
   "source": [
    "weight = {1:1,2:1,3:1,4:0.85,5:0.6,6:0.5,7:0.5,8:0.3,9:0.3,10:0.2,11:0.15,12:0.15,13:0.10,14:0.10,15:0.08,16:0.05,17:0.03,18:0.02,19:0.01,20:0.009}\n",
    "graph['POSITION'] = graph['POSITION'].replace(weight, regex=True)"
   ]
  },
  {
   "cell_type": "code",
   "execution_count": 5,
   "metadata": {},
   "outputs": [],
   "source": [
    "set_k = set(graph['KEYWORD'])\n",
    "set_s = set(graph['SERP'])"
   ]
  },
  {
   "cell_type": "code",
   "execution_count": 6,
   "metadata": {},
   "outputs": [],
   "source": [
    "authority = {}\n",
    "hub = {}\n",
    "\n",
    "for elem in set_k:\n",
    "    hub[elem] = 0\n",
    "    \n",
    "for elem in set_s:\n",
    "    authority[elem] = 0"
   ]
  },
  {
   "cell_type": "code",
   "execution_count": 7,
   "metadata": {},
   "outputs": [
    {
     "name": "stdout",
     "output_type": "stream",
     "text": [
      "ITERAZIONE:  1  DELTA:  -180830.453 SUM_A:  13168450817.016563 SUM_H:  2947772.7539842515\n",
      "ITERAZIONE:  2  DELTA:  -1245.967 SUM_A:  92547255.96224923 SUM_H:  2951097.833291013\n",
      "ITERAZIONE:  3  DELTA:  -1245.796 SUM_A:  92531973.43213347 SUM_H:  2946541.7487487034\n",
      "ITERAZIONE:  4  DELTA:  -1245.475 SUM_A:  92508268.35581338 SUM_H:  2945926.2886321573\n",
      "ITERAZIONE:  5  DELTA:  -1245.423 SUM_A:  92504379.90818486 SUM_H:  2945844.4325659596\n",
      "ITERAZIONE:  6  DELTA:  -1245.414 SUM_A:  92503718.71661834 SUM_H:  2945833.697898252\n",
      "ITERAZIONE:  7  DELTA:  -1245.413 SUM_A:  92503651.40828314 SUM_H:  2945829.9376751026\n",
      "ITERAZIONE:  8  DELTA:  -1245.413 SUM_A:  92503640.83089718 SUM_H:  2945831.1209421917\n",
      "ITERAZIONE:  9  DELTA:  -1245.413 SUM_A:  92503638.16019407 SUM_H:  2945830.4105771156\n",
      "ITERAZIONE:  10  DELTA:  -1245.413 SUM_A:  92503637.09192537 SUM_H:  2945830.6487290435\n",
      "ITERAZIONE:  11  DELTA:  -1245.413 SUM_A:  92503641.45210353 SUM_H:  2945830.6489090472\n",
      "ITERAZIONE:  12  DELTA:  -1245.413 SUM_A:  92503641.45210353 SUM_H:  2945830.6489090472\n",
      "ITERAZIONE:  13  DELTA:  -1245.413 SUM_A:  92503641.45210353 SUM_H:  2945830.6489090472\n",
      "ITERAZIONE:  14  DELTA:  -1245.413 SUM_A:  92503641.45210353 SUM_H:  2945830.6489090472\n",
      "ITERAZIONE:  15  DELTA:  -1245.413 SUM_A:  92503641.45210353 SUM_H:  2945830.6489090472\n",
      "ITERAZIONE:  16  DELTA:  -1245.413 SUM_A:  92503641.45210353 SUM_H:  2945830.6489090472\n",
      "ITERAZIONE:  17  DELTA:  -1245.413 SUM_A:  92503641.45210353 SUM_H:  2945830.6489090472\n",
      "ITERAZIONE:  18  DELTA:  -1245.413 SUM_A:  92503641.45210353 SUM_H:  2945830.6489090472\n",
      "ITERAZIONE:  19  DELTA:  -1245.413 SUM_A:  92503641.45210353 SUM_H:  2945830.6489090472\n",
      "ITERAZIONE:  20  DELTA:  -1245.413 SUM_A:  92503641.45210353 SUM_H:  2945830.6489090472\n",
      "ITERAZIONE:  21  DELTA:  -1245.413 SUM_A:  92503641.45210353 SUM_H:  2945830.6489090472\n",
      "ITERAZIONE:  22  DELTA:  -1245.413 SUM_A:  92503641.45210353 SUM_H:  2945830.6489090472\n",
      "ITERAZIONE:  23  DELTA:  -1245.413 SUM_A:  92503641.45210353 SUM_H:  2945830.6489090472\n",
      "ITERAZIONE:  24  DELTA:  -1245.413 SUM_A:  92503641.45210353 SUM_H:  2945830.6489090472\n",
      "ITERAZIONE:  25  DELTA:  -1245.413 SUM_A:  92503641.45210353 SUM_H:  2945830.6489090472\n",
      "ITERAZIONE:  26  DELTA:  -1245.413 SUM_A:  92503641.45210353 SUM_H:  2945830.6489090472\n",
      "ITERAZIONE:  27  DELTA:  -1245.413 SUM_A:  92503641.45210353 SUM_H:  2945830.6489090472\n",
      "ITERAZIONE:  28  DELTA:  -1245.413 SUM_A:  92503641.45210353 SUM_H:  2945830.6489090472\n",
      "ITERAZIONE:  29  DELTA:  -1245.413 SUM_A:  92503641.45210353 SUM_H:  2945830.6489090472\n",
      "ITERAZIONE:  30  DELTA:  -1245.413 SUM_A:  92503641.45210353 SUM_H:  2945830.6489090472\n"
     ]
    }
   ],
   "source": [
    "#iterazione multipla dell'algoritmo HITS per osservare il valore di k in cui l'algoritmo inizia a convergere\n",
    "\n",
    "delta_list = []\n",
    "\n",
    "for k in range(1,31):\n",
    "    \n",
    "    sum_a = 0\n",
    "    \n",
    "    #calcolo score authority (influenzato dalla posizione della serp rispetto la keyword)\n",
    "    for row in graph.itertuples(index=True, name='Pandas'):\n",
    "        serp = row.SERP\n",
    "        pos=row.POSITION\n",
    "        key = row.KEYWORD\n",
    "        if(k==1):\n",
    "            authority[serp] = authority[serp] + pos\n",
    "            sum_a = sum_a + authority[serp]\n",
    "        else:\n",
    "            authority[serp] = authority[serp] + hub[key]\n",
    "            sum_a = sum_a + authority[serp]\n",
    "    tot_a = 0\n",
    "\n",
    "    for key in authority.keys():\n",
    "        tot_a = tot_a + (authority[key]**2)\n",
    "\n",
    "    tot_a = math.sqrt(tot_a)\n",
    "\n",
    "    for key in authority.keys():\n",
    "        authority[key] = round((authority[key]/tot_a),6)\n",
    "        sum_a = sum_a + authority[key]\n",
    "\n",
    "    sum_h = 0\n",
    "    \n",
    "    #calcolo score hub (influenzato dallo score dell'authority a cui esso punta)\n",
    "    for row in graph.itertuples(index=True, name='Pandas'):\n",
    "        serp = row.SERP\n",
    "        key = row.KEYWORD\n",
    "        hub[key] = hub[key] + authority[serp]\n",
    "        sum_h = sum_h + hub[key]\n",
    "        \n",
    "    tot_h = 0\n",
    "    for key in hub.keys():\n",
    "        tot_h = tot_h + (hub[key]**2)\n",
    "\n",
    "    tot_h = math.sqrt(tot_h)\n",
    "\n",
    "    for key in hub.keys():\n",
    "        hub[key] = round((hub[key]/tot_h),6)\n",
    "        sum_h = sum_h + hub[key]\n",
    "    \n",
    "    avg_a = sum_a/len(authority)\n",
    "    avg_h = sum_h/len(hub)\n",
    "    \n",
    "    d = round((avg_h - avg_a),3)\n",
    "    delta_list.append(d)\n",
    "    print(\"ITERAZIONE: \",k,\" DELTA: \",d, \"SUM_A: \", sum_a , \"SUM_H: \", sum_h )"
   ]
  },
  {
   "cell_type": "code",
   "execution_count": 8,
   "metadata": {},
   "outputs": [
    {
     "data": {
      "text/plain": [
       "[<matplotlib.lines.Line2D at 0x27a2b94b0b8>]"
      ]
     },
     "execution_count": 8,
     "metadata": {},
     "output_type": "execute_result"
    },
    {
     "data": {
      "image/png": "[encoded data removed]",
      "text/plain": [
       "<matplotlib.figure.Figure at 0x27a3b418550>"
      ]
     },
     "metadata": {},
     "output_type": "display_data"
    }
   ],
   "source": [
    "plt.plot(delta_list)"
   ]
  },
  {
   "cell_type": "code",
   "execution_count": 14,
   "metadata": {},
   "outputs": [
    {
     "name": "stdout",
     "output_type": "stream",
     "text": [
      "ITERAZIONE:  1\n",
      "ITERAZIONE:  2\n",
      "ITERAZIONE:  3\n",
      "ITERAZIONE:  4\n",
      "ITERAZIONE:  5\n",
      "ITERAZIONE:  6\n",
      "ITERAZIONE:  7\n"
     ]
    }
   ],
   "source": [
    "#esecuzione algoritmo HITS con k=7. Ad ogni iterazione vengono aggiornati gli score per Authority e Hub\n",
    "\n",
    "for k in range(1,8):\n",
    "    \n",
    "    #calcolo score authority (influenzato dalla posizione della serp rispetto la keyword)\n",
    "    for row in graph.itertuples(index=True, name='Pandas'):\n",
    "        serp = row.SERP\n",
    "        pos=row.POSITION\n",
    "        key = row.KEYWORD\n",
    "        if(k==1):\n",
    "            authority[serp] = authority[serp] + pos\n",
    "        else:\n",
    "            authority[serp] = authority[serp] + hub[key]\n",
    "    tot_a = 0\n",
    "\n",
    "    for key in authority.keys():\n",
    "        tot_a = tot_a + (authority[key]**2)\n",
    "\n",
    "    tot_a = math.sqrt(tot_a)\n",
    "\n",
    "    for key in authority.keys():\n",
    "        authority[key] = round((authority[key]/tot_a),8)\n",
    "\n",
    "    #calcolo score hub (influenzato dallo score dell'authority a cui esso punta)\n",
    "    for row in graph.itertuples(index=True, name='Pandas'):\n",
    "        serp = row.SERP\n",
    "        key = row.KEYWORD\n",
    "        hub[key] = hub[key] + authority[serp]\n",
    "        \n",
    "    tot_h = 0\n",
    "    for key in hub.keys():\n",
    "        tot_h = tot_h + (hub[key]**2)\n",
    "\n",
    "    tot_h = math.sqrt(tot_h)\n",
    "\n",
    "    for key in hub.keys():\n",
    "        hub[key] = round((hub[key]/tot_h),8)\n",
    "    print(\"ITERAZIONE: \", k)"
   ]
  },
  {
   "cell_type": "code",
   "execution_count": null,
   "metadata": {},
   "outputs": [],
   "source": [
    "# Normalizzazione dei vettori contenete i pesi per hub e authority. Dividendo i vettori, componente per componente, per la radice della sommatoria dei quadrati di\n",
    "# tutti i loro elementi così che la loro somma dei quadrati sia unitaria\n",
    "\n",
    "# tot_h = 0\n",
    "\n",
    "# for key in hub.keys():\n",
    "#     tot_h = tot_h + (hub[key]**2)\n",
    "    \n",
    "# tot_h = math.sqrt(tot_h)\n",
    "\n",
    "# for key in hub.keys():\n",
    "#     hub[key] = \"%.8f\" % (hub[key]/tot_h)"
   ]
  },
  {
   "cell_type": "code",
   "execution_count": null,
   "metadata": {},
   "outputs": [],
   "source": [
    "# tot_a = 0\n",
    "\n",
    "# for key in authority.keys():\n",
    "#     tot_a = tot_a + (authority[key]**2)\n",
    "\n",
    "# tot_a = math.sqrt(tot_a)\n",
    "\n",
    "# for key in authority.keys():\n",
    "#     authority[key] = \"%.8f\" % (authority[key]/tot_a)"
   ]
  },
  {
   "cell_type": "code",
   "execution_count": null,
   "metadata": {},
   "outputs": [],
   "source": [
    "for elem in authority.keys():\n",
    "    if(elem == 'lifegate.it'):\n",
    "        print(authority[elem])"
   ]
  },
  {
   "cell_type": "code",
   "execution_count": null,
   "metadata": {},
   "outputs": [],
   "source": [
    "for elem in hub.keys():\n",
    "    if(elem == 'antipasto giallo'):\n",
    "        print(hub[elem])"
   ]
  },
  {
   "cell_type": "code",
   "execution_count": 15,
   "metadata": {},
   "outputs": [
    {
     "name": "stdout",
     "output_type": "stream",
     "text": [
      "MAX AUTHORITY:  ricette.giallozafferano.it   HITS SCORE: 0.44356311\n",
      "MIN AUTHORITY:  sussexchef.com   HITS SCORE: 0.0\n",
      "MAX HUB:  antipasto giallo   HITS SCORE: 0.00765277\n",
      "MIN HUB:  hakkebøf danese cipolle soft   HITS SCORE: 0.0\n"
     ]
    }
   ],
   "source": [
    "authority_max = max(authority.keys(), key=(lambda k: authority[k]))\n",
    "authority_min = min(authority.keys(), key=(lambda k: authority[k]))\n",
    "\n",
    "hub_max = max(hub.keys(), key=(lambda k: hub[k]))\n",
    "hub_min = min(hub.keys(), key=(lambda k: hub[k]))\n",
    "\n",
    "print(\"MAX AUTHORITY: \",authority_max,\"  HITS SCORE:\",authority[authority_max])\n",
    "print(\"MIN AUTHORITY: \",authority_min,\"  HITS SCORE:\",authority[authority_min])\n",
    "\n",
    "print(\"MAX HUB: \",hub_max,\"  HITS SCORE:\",hub[hub_max])\n",
    "print(\"MIN HUB: \",hub_min,\"  HITS SCORE:\",hub[hub_min])"
   ]
  },
  {
   "cell_type": "code",
   "execution_count": 16,
   "metadata": {},
   "outputs": [],
   "source": [
    "df=[]\n",
    "for elemen in authority.keys():\n",
    "    b=authority[elemen]\n",
    "    df.append(b)"
   ]
  },
  {
   "cell_type": "code",
   "execution_count": 17,
   "metadata": {},
   "outputs": [],
   "source": [
    "myarray = np.asarray(df)"
   ]
  },
  {
   "cell_type": "code",
   "execution_count": 18,
   "metadata": {},
   "outputs": [],
   "source": [
    "myarray= myarray.astype(float)"
   ]
  },
  {
   "cell_type": "code",
   "execution_count": 19,
   "metadata": {},
   "outputs": [
    {
     "data": {
      "image/png": "[encoded data removed]",
      "text/plain": [
       "<matplotlib.figure.Figure at 0x27a3823a9e8>"
      ]
     },
     "metadata": {},
     "output_type": "display_data"
    }
   ],
   "source": [
    "#il grafico mostra la distribuzione dei pesi delle authority\n",
    "\n",
    "plt.plot(myarray)\n",
    "plt.show()"
   ]
  },
  {
   "cell_type": "code",
   "execution_count": 20,
   "metadata": {},
   "outputs": [
    {
     "data": {
      "image/png": "[encoded data removed]",
      "text/plain": [
       "<matplotlib.figure.Figure at 0x27a37e1d3c8>"
      ]
     },
     "metadata": {},
     "output_type": "display_data"
    }
   ],
   "source": [
    "h=sorted(myarray)\n",
    "fit = stats.norm.pdf(h, np.mean(h), np.std(h))  #this is a fitting indeed\n",
    "\n",
    "plt.plot(h,fit,'-o')\n",
    "\n",
    "plt.hist(h,normed=True)      #use this to draw histogram of your data\n",
    "\n",
    "plt.show() "
   ]
  },
  {
   "cell_type": "code",
   "execution_count": 21,
   "metadata": {},
   "outputs": [],
   "source": [
    "#otteniamo il numero ottimale di bin applicando la regola di Sturge (1+(3.322*log(N)))\n",
    "\n",
    "nbin=1+3.322*(math.log(len(myarray)))"
   ]
  },
  {
   "cell_type": "code",
   "execution_count": 22,
   "metadata": {},
   "outputs": [],
   "source": [
    "nbin=int(nbin)"
   ]
  },
  {
   "cell_type": "code",
   "execution_count": 23,
   "metadata": {},
   "outputs": [
    {
     "data": {
      "text/plain": [
       "38"
      ]
     },
     "execution_count": 23,
     "metadata": {},
     "output_type": "execute_result"
    }
   ],
   "source": [
    "nbin"
   ]
  },
  {
   "cell_type": "code",
   "execution_count": 24,
   "metadata": {},
   "outputs": [],
   "source": [
    "index = range(1,72813)\n",
    "columns = ['auth']\n",
    "\n",
    "\n",
    "# Option 1: Set the column names in the structured array's dtype \n",
    "\n",
    "dtype = [('a','float32')]\n",
    "values = myarray\n",
    "df = pd.DataFrame(values, index=index)"
   ]
  },
  {
   "cell_type": "code",
   "execution_count": 25,
   "metadata": {},
   "outputs": [],
   "source": [
    "#viene aggiunta una colonna 'binned' per indicare il numero di bin a cui la serp appartiene\n",
    "\n",
    "df['binned'] = pd.cut(df[0], nbin,labels=[1,2,3,4,5,6,7,8,9,10,11,12,13,14,15,16,17,18,19,20,21,22,23,24,25,26,27,28,29,30,31,32,33,34,35,36,37,38])"
   ]
  },
  {
   "cell_type": "code",
   "execution_count": 26,
   "metadata": {},
   "outputs": [
    {
     "data": {
      "text/plain": [
       "[1, 2, 12, 5, 19, ..., 38, 8, 14, 9, 28]\n",
       "Length: 20\n",
       "Categories (20, int64): [1 < 2 < 3 < 4 ... 28 < 35 < 36 < 38]"
      ]
     },
     "execution_count": 26,
     "metadata": {},
     "output_type": "execute_result"
    }
   ],
   "source": [
    "df['binned'].unique()"
   ]
  },
  {
   "cell_type": "code",
   "execution_count": 27,
   "metadata": {},
   "outputs": [],
   "source": [
    "df['serps'] = set_s"
   ]
  },
  {
   "cell_type": "code",
   "execution_count": 28,
   "metadata": {},
   "outputs": [
    {
     "data": {
      "text/html": [
       "<div>\n",
       "<style scoped>\n",
       "    .dataframe tbody tr th:only-of-type {\n",
       "        vertical-align: middle;\n",
       "    }\n",
       "\n",
       "    .dataframe tbody tr th {\n",
       "        vertical-align: top;\n",
       "    }\n",
       "\n",
       "    .dataframe thead th {\n",
       "        text-align: right;\n",
       "    }\n",
       "</style>\n",
       "<table border=\"1\" class=\"dataframe\">\n",
       "  <thead>\n",
       "    <tr style=\"text-align: right;\">\n",
       "      <th></th>\n",
       "      <th>0</th>\n",
       "    </tr>\n",
       "  </thead>\n",
       "  <tbody>\n",
       "    <tr>\n",
       "      <th>count</th>\n",
       "      <td>72735.000000</td>\n",
       "    </tr>\n",
       "    <tr>\n",
       "      <th>mean</th>\n",
       "      <td>0.000038</td>\n",
       "    </tr>\n",
       "    <tr>\n",
       "      <th>std</th>\n",
       "      <td>0.000299</td>\n",
       "    </tr>\n",
       "    <tr>\n",
       "      <th>min</th>\n",
       "      <td>0.000000</td>\n",
       "    </tr>\n",
       "    <tr>\n",
       "      <th>25%</th>\n",
       "      <td>0.000001</td>\n",
       "    </tr>\n",
       "    <tr>\n",
       "      <th>50%</th>\n",
       "      <td>0.000003</td>\n",
       "    </tr>\n",
       "    <tr>\n",
       "      <th>75%</th>\n",
       "      <td>0.000011</td>\n",
       "    </tr>\n",
       "    <tr>\n",
       "      <th>max</th>\n",
       "      <td>0.011634</td>\n",
       "    </tr>\n",
       "  </tbody>\n",
       "</table>\n",
       "</div>"
      ],
      "text/plain": [
       "                  0\n",
       "count  72735.000000\n",
       "mean       0.000038\n",
       "std        0.000299\n",
       "min        0.000000\n",
       "25%        0.000001\n",
       "50%        0.000003\n",
       "75%        0.000011\n",
       "max        0.011634"
      ]
     },
     "execution_count": 28,
     "metadata": {},
     "output_type": "execute_result"
    }
   ],
   "source": [
    "df.loc[df['binned'] == 1].describe()"
   ]
  },
  {
   "cell_type": "code",
   "execution_count": 29,
   "metadata": {},
   "outputs": [
    {
     "name": "stdout",
     "output_type": "stream",
     "text": [
      "Iterazione  2   --- 4.801159381866455 seconds ---\n",
      "Iterazione  3   --- 2.422520160675049 seconds ---\n",
      "Iterazione  4   --- 1.3005211353302002 seconds ---\n",
      "Iterazione  5   --- 0.6632258892059326 seconds ---\n",
      "Iterazione  6   --- 0.16655468940734863 seconds ---\n",
      "Iterazione  7   --- 0.35205793380737305 seconds ---\n",
      "Iterazione  8   --- 0.16655182838439941 seconds ---\n",
      "Iterazione  9   --- 0.17752504348754883 seconds ---\n",
      "Iterazione  10   --- 0.6851677894592285 seconds ---\n",
      "Iterazione  11   --- 0.17154145240783691 seconds ---\n",
      "Iterazione  12   --- 0.3510608673095703 seconds ---\n",
      "Iterazione  13   --- 0.000997781753540039 seconds ---\n",
      "Iterazione  14   --- 0.17253804206848145 seconds ---\n",
      "Iterazione  15   --- 0.18052268028259277 seconds ---\n",
      "Iterazione  16   --- 0.0 seconds ---\n",
      "Iterazione  17   --- 0.0009980201721191406 seconds ---\n",
      "Iterazione  18   --- 0.37699103355407715 seconds ---\n",
      "Iterazione  19   --- 0.1825118064880371 seconds ---\n",
      "Iterazione  20   --- 0.0009980201721191406 seconds ---\n",
      "Iterazione  21   --- 0.0 seconds ---\n",
      "Iterazione  22   --- 0.0 seconds ---\n",
      "Iterazione  23   --- 0.0009968280792236328 seconds ---\n",
      "Iterazione  24   --- 0.0 seconds ---\n",
      "Iterazione  25   --- 0.000997304916381836 seconds ---\n",
      "Iterazione  26   --- 0.0 seconds ---\n",
      "Iterazione  27   --- 0.000997304916381836 seconds ---\n",
      "Iterazione  28   --- 0.18351006507873535 seconds ---\n",
      "Iterazione  29   --- 0.0009970664978027344 seconds ---\n",
      "Iterazione  30   --- 0.0 seconds ---\n",
      "Iterazione  31   --- 0.0 seconds ---\n",
      "Iterazione  32   --- 0.0019941329956054688 seconds ---\n",
      "Iterazione  33   --- 0.0 seconds ---\n",
      "Iterazione  34   --- 0.0009975433349609375 seconds ---\n",
      "Iterazione  35   --- 0.18949365615844727 seconds ---\n",
      "Iterazione  36   --- 0.19946694374084473 seconds ---\n",
      "Iterazione  37   --- 0.0009968280792236328 seconds ---\n",
      "Iterazione  38   --- 0.23537039756774902 seconds ---\n"
     ]
    }
   ],
   "source": [
    "#Dizionario di dizionari\n",
    "#KEY: bin index   VALUE: Dizionario SERP,KEYWORDS\n",
    "index_serps = {}\n",
    "\n",
    "#Dizionario contenete l'intersezione delle keyword collegate a serp appartenenti allo stesso cluster\n",
    "#KEY: bin index   VALUE: Keywords intersection\n",
    "index_key_set = {}\n",
    "\n",
    "for i in range(2,39):\n",
    "    start_time = time.time()\n",
    "    if(not df.loc[df['binned'] == i].empty):\n",
    "        df_t = df.loc[df['binned'] == i]\n",
    "        key_serp = {}\n",
    "        list_key = []\n",
    "        for row in df_t.itertuples(index=True, name='Pandas'):\n",
    "            serp = row.serps\n",
    "            \n",
    "            #considera solo le keyword che si trovano nelle prime 5 posizioni per poter caratterizzare la serp relativa come top site\n",
    "            df_k = graph.loc[graph['SERP']== serp].loc[graph['POSITION'] >= 0.6] \n",
    "            \n",
    "            #lista contenente i set delle keyword per ogni set, utilizzata successivamente per ottenere l'intersezione\n",
    "            list_key.append(set(df_k['KEYWORD']))\n",
    "            key_serp[serp] = set(df_k['KEYWORD'])\n",
    "        \n",
    "        #per ogni bin i contiene la coppia serp,keywords\n",
    "        index_serps[i] = key_serp \n",
    "        \n",
    "        #contiene l'intersezione delle keyword relative al bin i\n",
    "        index_key_set[i] = set.intersection(*list_key) \n",
    "        \n",
    "    print(\"Iterazione \" , i ,\"  --- %s seconds ---\" % (time.time() - start_time))"
   ]
  },
  {
   "cell_type": "code",
   "execution_count": 31,
   "metadata": {},
   "outputs": [
    {
     "data": {
      "text/plain": [
       "'dict_keys([2, 3, 4, 5, 6, 7, 8, 9, 10, 11, 12, 14, 15, 18, 19, 28, 35, 36, 38])'"
      ]
     },
     "execution_count": 31,
     "metadata": {},
     "output_type": "execute_result"
    }
   ],
   "source": [
    "str(index_serps.keys())"
   ]
  },
  {
   "cell_type": "code",
   "execution_count": null,
   "metadata": {},
   "outputs": [],
   "source": [
    "df.loc[df['binned'] == 38].describe()"
   ]
  },
  {
   "cell_type": "code",
   "execution_count": 32,
   "metadata": {},
   "outputs": [
    {
     "name": "stdout",
     "output_type": "stream",
     "text": [
      "BIN:  2\n",
      "SERPS:  ['lastampa.it', 'tripadvisor.it', 'saporie.com', 'cucina-naturale.it', 'star.it', 'scattidigusto.it', 'video.mediaset.it', 'wikihow.it', 'dissapore.com', 'leitv.it', 'moovenda.com', 'foodora.it', 'mangiarebene.com', 'sicilianicreativiincucina.it', 'chiarapassion.com', 'lacuochinasopraffina.com', 'finedininglovers.it', 'parmalat.it', 'tv2000.it', 'donnamoderna.com', 'piattoforte.it', 'foodnetwork.it', 'vegolosi.it', 'nonsprecare.it', 'lospicchiodaglio.it', 'hovogliadidolce.it', 'gnamgnam.it', 'ilgiornaledelcibo.it', 'ricettedalmondo.it']\n",
      "N.KEYWORDS:  0\n",
      "-------------------------------------------------------------------------\n",
      "BIN:  3\n",
      "SERPS:  ['la.repubblica.it', 'foxlife.it', 'oggi.it', 'soniaperonaci.it', 'academiabarilla.it', 'deliveroo.it', 'elle.com', 'fattoincasadabenedetta.it', 'blog.cookaround.com', 'alice.tv', 'primochef.it', 'guidecucina.pianetadonna.it', 'grazia.it', 'tavolartegusto.it', 'facebook.com']\n",
      "N.KEYWORDS:  0\n",
      "-------------------------------------------------------------------------\n",
      "BIN:  4\n",
      "SERPS:  ['ricette.donnamoderna.com', 'it.pinterest.com', 'gustissimo.it', 'cucina.fidelityhouse.eu', 'youmedia.fanpage.it', 'ifood.it', 'unadonna.it', 'tgcom24.mediaset.it']\n",
      "N.KEYWORDS:  0\n",
      "-------------------------------------------------------------------------\n",
      "BIN:  5\n",
      "SERPS:  ['greenme.it', 'pinterest.com', 'galbani.it', 'tribugolosa.com']\n",
      "N.KEYWORDS:  0\n",
      "-------------------------------------------------------------------------\n",
      "BIN:  6\n",
      "SERPS:  ['agrodolce.it']\n",
      "N.KEYWORDS:  4465\n",
      "-------------------------------------------------------------------------\n",
      "BIN:  7\n",
      "SERPS:  ['it.wikipedia.org', 'petitchef.it']\n",
      "N.KEYWORDS:  68\n",
      "-------------------------------------------------------------------------\n",
      "BIN:  8\n",
      "SERPS:  ['ricettedellanonna.net']\n",
      "N.KEYWORDS:  6568\n",
      "-------------------------------------------------------------------------\n",
      "BIN:  9\n",
      "SERPS:  ['allrecipes.it']\n",
      "N.KEYWORDS:  5731\n",
      "-------------------------------------------------------------------------\n",
      "BIN:  10\n",
      "SERPS:  ['raiplay.it', 'la7.it', 'cucina.fanpage.it', 'my-personaltrainer.it']\n",
      "N.KEYWORDS:  0\n",
      "-------------------------------------------------------------------------\n",
      "BIN:  11\n",
      "SERPS:  ['misya.info']\n",
      "N.KEYWORDS:  9581\n",
      "-------------------------------------------------------------------------\n",
      "BIN:  12\n",
      "SERPS:  ['ricette-utenti.cookaround.com', 'buonissimo.org']\n",
      "N.KEYWORDS:  888\n",
      "-------------------------------------------------------------------------\n",
      "BIN:  14\n",
      "SERPS:  ['buttalapasta.it']\n",
      "N.KEYWORDS:  11225\n",
      "-------------------------------------------------------------------------\n",
      "BIN:  15\n",
      "SERPS:  ['cucchiaio.it']\n",
      "N.KEYWORDS:  14620\n",
      "-------------------------------------------------------------------------\n",
      "BIN:  18\n",
      "SERPS:  ['salepepe.it', 'lacucinaitaliana.it']\n",
      "N.KEYWORDS:  2606\n",
      "-------------------------------------------------------------------------\n",
      "BIN:  19\n",
      "SERPS:  ['cookaround.com']\n",
      "N.KEYWORDS:  17892\n",
      "-------------------------------------------------------------------------\n",
      "BIN:  28\n",
      "SERPS:  ['giallozafferano.it']\n",
      "N.KEYWORDS:  16252\n",
      "-------------------------------------------------------------------------\n",
      "BIN:  35\n",
      "SERPS:  ['blog.giallozafferano.it']\n",
      "N.KEYWORDS:  26836\n",
      "-------------------------------------------------------------------------\n",
      "BIN:  36\n",
      "SERPS:  ['youtube.com']\n",
      "N.KEYWORDS:  31344\n",
      "-------------------------------------------------------------------------\n",
      "BIN:  38\n",
      "SERPS:  ['ricette.giallozafferano.it']\n",
      "N.KEYWORDS:  44506\n",
      "-------------------------------------------------------------------------\n"
     ]
    }
   ],
   "source": [
    "for i in list(index_serps.keys()):\n",
    "    print(\"BIN: \", i)\n",
    "    print(\"SERPS: \", list(index_serps[i].keys()))\n",
    "    print(\"N.KEYWORDS: \", len(index_key_set[i]))\n",
    "    print(\"-------------------------------------------------------------------------\")"
   ]
  },
  {
   "cell_type": "code",
   "execution_count": 33,
   "metadata": {},
   "outputs": [],
   "source": [
    "list_index = [6,7,8,9,11,12,14,14,19,28,35,36,38]"
   ]
  },
  {
   "cell_type": "code",
   "execution_count": null,
   "metadata": {},
   "outputs": [],
   "source": [
    "for i in list_index:\n",
    "    for j in list_index:\n",
    "        if(i != j):\n",
    "            print(\"KEY IN COMUNE TRA \",i,\"(\",len(index_key_set[i]),\")\",\" E \", j,\"(\",len(index_key_set[j]),\")\")\n",
    "            print(len(index_key_set[i].intersection(index_key_set[j])),\"\\n\")\n"
   ]
  },
  {
   "cell_type": "code",
   "execution_count": null,
   "metadata": {},
   "outputs": [],
   "source": [
    "#             print(\"KEY IN COMUNE TRA \",i,\"(\",len(index_key_set[i]),\")\",\" E \", j,\"(\",len(index_key_set[j]),\")\")\n",
    "#             print(len(index_key_set[i].intersection(index_key_set[j])),\"\\n\")"
   ]
  },
  {
   "cell_type": "code",
   "execution_count": null,
   "metadata": {},
   "outputs": [],
   "source": [
    "#scrive in diversi file csv la lista di keyword raggruppate per ogni bin\n",
    "\n",
    "for i in list(index_serps.keys()):\n",
    "    path =  \"Clusters/ListKeywordsForBin_\"\n",
    "    est = \".csv\"\n",
    "    csvFilename = (path+str(i)+est)  # what name you want to save your csv as\n",
    "    csv = open(csvFilename, \"w\", encoding = \"utf-8\")  # create or open csv, \"w\" to write strings\n",
    "    csv.write('')\n",
    "    for elem in index_key_set[i]:\n",
    "        csv.write(elem + \"\\n\")"
   ]
  },
  {
   "cell_type": "code",
   "execution_count": null,
   "metadata": {},
   "outputs": [],
   "source": [
    "str_111419 = (\"misya.info buttalapasta.it youtube.com cookaround.com\")"
   ]
  },
  {
   "cell_type": "code",
   "execution_count": null,
   "metadata": {},
   "outputs": [],
   "source": [
    "lst_key_index_111419 = []\n",
    "set_111419 = index_key_set[11].intersection(index_key_set[14]).intersection(index_key_set[19])\n",
    "len(set_111419)\n",
    "\n",
    "j = 0\n",
    "for elem in set_111419:\n",
    "    if(j<=15):\n",
    "        line = (str_111419.upper()+\",\"+elem)\n",
    "        lst_key_index_111419.append(line)\n",
    "        j = j+1"
   ]
  },
  {
   "cell_type": "code",
   "execution_count": null,
   "metadata": {},
   "outputs": [],
   "source": [
    "#csv contenente l'intersezione tra le keyword appartenenti ai bin 10,11,13\n",
    "\n",
    "csvFilename = \"graphSample_111419.csv\"\n",
    "csv = open(csvFilename, \"w\", encoding = \"utf-8\")  # create or open csv, \"w\" to write strings\n",
    "csv.write('')\n",
    "for elem in lst_key_index_111419:\n",
    "        csv.write(elem + \"\\n\") "
   ]
  },
  {
   "cell_type": "code",
   "execution_count": null,
   "metadata": {},
   "outputs": [],
   "source": [
    "#dizionario serps / keywords\n",
    "#KEY: serps di ogni bin ottenuto  VALUE: keywords in comune tra le serp di ogni bin\n",
    "\n",
    "serps_conctn = {}\n",
    "for i in list_index:\n",
    "    serps_conctn[i] = \"\"\n",
    "    for elem in list(index_serps[i].keys()):\n",
    "        if(serps_conctn[i] == \"\"):\n",
    "            serps_conctn[i] = (elem+\" \")\n",
    "        else:\n",
    "            serps_conctn[i] = (serps_conctn[i]+elem+\" \")"
   ]
  },
  {
   "cell_type": "code",
   "execution_count": null,
   "metadata": {},
   "outputs": [],
   "source": [
    "serps_conctn"
   ]
  },
  {
   "cell_type": "code",
   "execution_count": null,
   "metadata": {},
   "outputs": [],
   "source": [
    "#crea una lista serps,keywords al fine di realizzare un sample del grafo per la visualizzazione\n",
    "\n",
    "lst_key_index = []\n",
    "for i in list_index:\n",
    "    j = 0\n",
    "    for elem in index_key_set[i]:\n",
    "        if(j<=20):\n",
    "            line = (serps_conctn[i]+\",\"+elem)\n",
    "            lst_key_index.append(line)\n",
    "            j = j+1"
   ]
  },
  {
   "cell_type": "code",
   "execution_count": null,
   "metadata": {},
   "outputs": [],
   "source": [
    "csvFilename = \"graphSample.csv\"\n",
    "csv = open(csvFilename, \"w\", encoding = \"utf-8\")  # create or open csv, \"w\" to write strings\n",
    "csv.write('')\n",
    "for elem in lst_key_index:\n",
    "        csv.write(elem + \"\\n\") "
   ]
  },
  {
   "cell_type": "code",
   "execution_count": 91,
   "metadata": {},
   "outputs": [],
   "source": [
    "g_volumes = pd.read_csv('gtrends_estimates.csv', sep='\\t', header=None, encoding='utf-8', engine='python')"
   ]
  },
  {
   "cell_type": "code",
   "execution_count": 92,
   "metadata": {},
   "outputs": [],
   "source": [
    "g_volumes = g_volumes.rename(columns={0:'KEYWORD',1:'VOLUME'})"
   ]
  },
  {
   "cell_type": "code",
   "execution_count": 93,
   "metadata": {},
   "outputs": [],
   "source": [
    "gv_dict = {}"
   ]
  },
  {
   "cell_type": "code",
   "execution_count": 94,
   "metadata": {},
   "outputs": [],
   "source": [
    "for row in g_volumes.itertuples(index=True, name='Pandas'):\n",
    "    gv_dict[row.KEYWORD] = row.VOLUME"
   ]
  },
  {
   "cell_type": "code",
   "execution_count": 114,
   "metadata": {},
   "outputs": [],
   "source": [
    "#Dizionario di dizionari\n",
    "#KEY: bin index   VALUE: Dizionario KEYWORDS,VOLUME\n",
    "\n",
    "bin_volume = {}\n",
    "bin_list_volume = {}"
   ]
  },
  {
   "cell_type": "code",
   "execution_count": 115,
   "metadata": {},
   "outputs": [],
   "source": [
    "for i in list_index:\n",
    "    key_volume = {}\n",
    "    for elem in index_key_set[i]:\n",
    "        if(elem in gv_dict.keys()):\n",
    "            key_volume[elem] = gv_dict[elem]\n",
    "    key_volume_ord = sorted(key_volume.items(), key=lambda x: x[1], reverse=True)  #ordina il dizionario secondo i valori in modo decrescente\n",
    "    bin_volume[i] = key_volume\n",
    "    bin_list_volume[i] = key_volume_ord"
   ]
  },
  {
   "cell_type": "code",
   "execution_count": 116,
   "metadata": {},
   "outputs": [
    {
     "name": "stdout",
     "output_type": "stream",
     "text": [
      "BIN:  6  MEDIA VOLUMI:  29.174222020236865\n",
      "BIN:  7  MEDIA VOLUMI:  3.7072945912126887\n",
      "BIN:  8  MEDIA VOLUMI:  137.371822404785\n",
      "BIN:  9  MEDIA VOLUMI:  37.61152648314722\n",
      "BIN:  11  MEDIA VOLUMI:  167.1084359693751\n",
      "BIN:  12  MEDIA VOLUMI:  41.121016468373895\n",
      "BIN:  14  MEDIA VOLUMI:  24.15173157857722\n",
      "BIN:  14  MEDIA VOLUMI:  24.15173157857722\n",
      "BIN:  19  MEDIA VOLUMI:  49.06091270126663\n",
      "BIN:  28  MEDIA VOLUMI:  117.99230285460274\n",
      "BIN:  35  MEDIA VOLUMI:  48.746811410806444\n",
      "BIN:  36  MEDIA VOLUMI:  76.62677710357323\n",
      "BIN:  38  MEDIA VOLUMI:  109.36647909719261\n"
     ]
    }
   ],
   "source": [
    "import statistics\n",
    "\n",
    "for j in list_index:\n",
    "    numbers = [bin_volume[j][key] for key in bin_volume[j]]\n",
    "    mean_ = statistics.mean(numbers)\n",
    "    print(\"BIN: \", j, \" MEDIA VOLUMI: \",mean_)"
   ]
  },
  {
   "cell_type": "code",
   "execution_count": null,
   "metadata": {},
   "outputs": [],
   "source": []
  },
  {
   "cell_type": "code",
   "execution_count": 124,
   "metadata": {},
   "outputs": [],
   "source": [
    "for i in list(bin_list_volume.keys()):\n",
    "    path =  \"Clusters/top100volume_\"\n",
    "    est = \".csv\"\n",
    "    csvFilename = (path+str(i)+est)  # what name you want to save your csv as\n",
    "    csv = open(csvFilename, \"w\", encoding = \"utf-8\")  # create or open csv, \"w\" to write strings\n",
    "    csv.write('')\n",
    "    k = 0\n",
    "    for elem in bin_list_volume[i]:\n",
    "        if(k<=100):\n",
    "            csv.write(str(elem) + \"\\n\")\n",
    "            k = k+1"
   ]
  },
  {
   "cell_type": "code",
   "execution_count": 127,
   "metadata": {},
   "outputs": [],
   "source": [
    "csvFilename = (\"Clusters/top100volume_38.csv\")\n",
    "csv = open(csvFilename, \"w\", encoding = \"utf-8\")  # create or open csv, \"w\" to write strings\n",
    "csv.write('')\n",
    "for elem in bin_list_volume[38][0:100]:\n",
    "    csv.write(str(elem) + \"\\n\")"
   ]
  }
 ],
 "metadata": {
  "kernelspec": {
   "display_name": "Python 3",
   "language": "python",
   "name": "python3"
  },
  "language_info": {
   "codemirror_mode": {
    "name": "ipython",
    "version": 3
   },
   "file_extension": ".py",
   "mimetype": "text/x-python",
   "name": "python",
   "nbconvert_exporter": "python",
   "pygments_lexer": "ipython3",
   "version": "3.6.4"
  }
 },
 "nbformat": 4,
 "nbformat_minor": 2
}
