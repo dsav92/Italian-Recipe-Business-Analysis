{
 "cells": [
  {
   "cell_type": "code",
   "execution_count": 1,
   "metadata": {},
   "outputs": [],
   "source": [
    "import pandas as pd, networkx as nx, matplotlib.pyplot as plt\n",
    "import re\n",
    "import csv\n",
    "import networkx as nx\n",
    "import community\n",
    "from networkx.algorithms import bipartite\n",
    "import operator"
   ]
  },
  {
   "cell_type": "code",
   "execution_count": 2,
   "metadata": {},
   "outputs": [],
   "source": [
    "#al csv originale, ho aggiunto l'header 'recipe' e 'link'\n",
    "df = pd.read_csv('clean_graph.csv',sep='\\t')\n",
    "G=nx.Graph()\n",
    "G.add_nodes_from(df['recipe'], color='red', bipartite=0) #nodi ricetta\n",
    "G.add_nodes_from(df['link'], color='blue', bipartite=1) #nodi link\n",
    "for index,row in df.iterrows():\n",
    "    G.add_edge(row['recipe'], row['link'])"
   ]
  },
  {
   "cell_type": "code",
   "execution_count": 3,
   "metadata": {},
   "outputs": [],
   "source": [
    "#In top_nodes ho i nodi che riguardano le ricette, in bottom_nodes ho quelli che riguardano i link\n",
    "rec_nodes = {n for n, d in G.nodes(data=True) if d['bipartite']==0}\n",
    "link_nodes = set(G) - rec_nodes\n",
    "#print (top_nodes)\n",
    "#print (\"---------------------------------------------------------------------------------------------------------------------------------------------\")\n",
    "#print (bottom_nodes)"
   ]
  },
  {
   "cell_type": "code",
   "execution_count": 4,
   "metadata": {},
   "outputs": [
    {
     "name": "stdout",
     "output_type": "stream",
     "text": [
      "Numero distinto Totali di Nodi Ricette: 117681\n"
     ]
    }
   ],
   "source": [
    "#tot ricette\n",
    "TotRec = len(list(rec_nodes))\n",
    "print(\"Numero distinto Totali di Nodi Ricette: \" + str(TotRec))"
   ]
  },
  {
   "cell_type": "code",
   "execution_count": 5,
   "metadata": {},
   "outputs": [
    {
     "name": "stdout",
     "output_type": "stream",
     "text": [
      "Numero distinto Totali di Nodi Link: 72812\n"
     ]
    }
   ],
   "source": [
    "#tot link\n",
    "TotLink = len(list(link_nodes))\n",
    "print(\"Numero distinto Totali di Nodi Link: \" + str(TotLink))"
   ]
  },
  {
   "cell_type": "code",
   "execution_count": 6,
   "metadata": {
    "scrolled": true
   },
   "outputs": [
    {
     "name": "stdout",
     "output_type": "stream",
     "text": [
      "Numero distinto Totali di Nodi: 190493\n"
     ]
    }
   ],
   "source": [
    "#tot nodi\n",
    "print(\"Numero distinto Totali di Nodi: \" + str(len(G.nodes())))"
   ]
  },
  {
   "cell_type": "code",
   "execution_count": 7,
   "metadata": {},
   "outputs": [
    {
     "name": "stdout",
     "output_type": "stream",
     "text": [
      "Numero distinto Totali di Archi: 2008193\n"
     ]
    }
   ],
   "source": [
    "#tot archi\n",
    "edge = len(G.edges())\n",
    "print(\"Numero distinto Totali di Archi: \" + str(edge))"
   ]
  },
  {
   "cell_type": "code",
   "execution_count": 8,
   "metadata": {},
   "outputs": [
    {
     "name": "stdout",
     "output_type": "stream",
     "text": [
      "Il grafo è bipartito: True\n",
      "Il grafo è connesso: False\n"
     ]
    }
   ],
   "source": [
    "print(\"Il grafo è bipartito: \" + str(bipartite.is_bipartite(G)))\n",
    "print(\"Il grafo è connesso: \" + str(nx.is_connected(G)))"
   ]
  },
  {
   "cell_type": "code",
   "execution_count": 9,
   "metadata": {},
   "outputs": [
    {
     "name": "stdout",
     "output_type": "stream",
     "text": [
      "17.06471732905057 27.58052244135582 21.084165822366177\n"
     ]
    }
   ],
   "source": [
    "#grado medio di ric_nodes = TotArchi/TotRicette\n",
    "Gmean_rec = edge/TotRec\n",
    "#grado medio di link_nodes = TotArchi/TotLink\n",
    "Gmean_link = edge/TotLink\n",
    "#grado medio del grafo = K = 2*TotArchi/TotRicette+TotLink\n",
    "Gmean = (2*edge) / (TotRec+TotLink)\n",
    "print (Gmean_rec, Gmean_link, Gmean)"
   ]
  },
  {
   "cell_type": "code",
   "execution_count": 10,
   "metadata": {},
   "outputs": [
    {
     "name": "stdout",
     "output_type": "stream",
     "text": [
      "0.00023436682592224592 0.00023436682592224592\n",
      "10.542082911183089\n"
     ]
    }
   ],
   "source": [
    "#densità del grafo\n",
    "Dens_rec = bipartite.density(G,rec_nodes) #partizione ricette\n",
    "Dens_link = bipartite.density(G,link_nodes) #partizione link\n",
    "print (Dens_rec, Dens_link)\n",
    "\n",
    "#densità totale del grafo = TotArchi/TotRicette+TotLink\n",
    "print(edge/(TotRec+TotLink))"
   ]
  },
  {
   "cell_type": "code",
   "execution_count": 11,
   "metadata": {},
   "outputs": [
    {
     "name": "stdout",
     "output_type": "stream",
     "text": [
      "('ricette.giallozafferano.it', 77958)\n",
      "('fette pane melanzane alici', 20)\n"
     ]
    }
   ],
   "source": [
    "#restituisce un dizionario dove ad ogni nodo corrisponde il suo grado\n",
    "degLINK,degREC=bipartite.degrees(G,rec_nodes)\n",
    "\n",
    "#ordina in modo decrescente il dizionario in base al grado massimo del nodo\n",
    "degLINK = sorted(degLINK, key=operator.itemgetter(1), reverse=True) \n",
    "print(degLINK[0])\n",
    "degREC = sorted(degREC, key=operator.itemgetter(1), reverse=True)\n",
    "print(degREC[0])"
   ]
  },
  {
   "cell_type": "code",
   "execution_count": null,
   "metadata": {},
   "outputs": [],
   "source": [
    "#clustering coefficient --> ognuno restituisce un dizionario con Nome:ClusteringCoeff\n",
    "#sulle ricette\n",
    "coeff_rec = bipartite.clustering(G, rec_nodes)\n",
    "#sui link\n",
    "coeff_link = bipartite.clustering(G, link_nodes)\n",
    "#sull'intera rete\n",
    "coeff_tot = bipartite.clustering(G)\n",
    "\n",
    "#ordina in modo decrescente in base al coeff clustering\n",
    "sorted_rec = sorted(coeff_rec.items(), key=operator.itemgetter(1), reverse=True)\n",
    "sorted_link = sorted(coeff_link.items(), key=operator.itemgetter(1), reverse=True)\n",
    "sorted_tot = sorted(coeff_tot.items(), key=operator.itemgetter(1,0), reverse=True)\n",
    "\n",
    "#i top\n",
    "print(sorted_rec[0])\n",
    "print(sorted_link[0])\n",
    "print(sorted_tot[0])"
   ]
  },
  {
   "cell_type": "code",
   "execution_count": 30,
   "metadata": {},
   "outputs": [
    {
     "data": {
      "image/png": "[encoded data removed]",
      "text/plain": [
       "<matplotlib.figure.Figure at 0x1a939f60>"
      ]
     },
     "metadata": {},
     "output_type": "display_data"
    }
   ],
   "source": [
    "#distribuzione del grado di nodi\n",
    "hist = nx.degree_histogram(G)\n",
    "plt.plot(range(0,len(hist)),hist,\".\")\n",
    "#plt.plot(GLink)\n",
    "plt.yscale('log')\n",
    "plt.xscale('log') \n",
    "plt.show()"
   ]
  },
  {
   "cell_type": "code",
   "execution_count": 35,
   "metadata": {},
   "outputs": [
    {
     "data": {
      "image/png": "[encoded data removed]",
      "text/plain": [
       "<matplotlib.figure.Figure at 0x1a6bfac8>"
      ]
     },
     "metadata": {},
     "output_type": "display_data"
    }
   ],
   "source": [
    "#distribuzione del grado dei link\n",
    "\n",
    "GLink=[v for (k, v) in degLINK]\n",
    "plt.plot(range(0,len(GLink)),GLink,\".\")\n",
    "#plt.plot(GLink)\n",
    "#plt.yscale('log')\n",
    "#plt.xscale('log') \n",
    "plt.loglog()\n",
    "plt.show()"
   ]
  },
  {
   "cell_type": "code",
   "execution_count": 41,
   "metadata": {},
   "outputs": [
    {
     "data": {
      "image/png": "[encoded data removed]",
      "text/plain": [
       "<matplotlib.figure.Figure at 0x1a663358>"
      ]
     },
     "metadata": {},
     "output_type": "display_data"
    }
   ],
   "source": [
    "#distribuzione del grado delle ricette\n",
    "GRec=[v for (k, v) in degREC]\n",
    "plt.plot(range(0,len(GRec)),GRec,\".\")\n",
    "plt.show()"
   ]
  },
  {
   "cell_type": "code",
   "execution_count": null,
   "metadata": {},
   "outputs": [],
   "source": []
  }
 ],
 "metadata": {
  "kernelspec": {
   "display_name": "Python 3",
   "language": "python",
   "name": "python3"
  },
  "language_info": {
   "codemirror_mode": {
    "name": "ipython",
    "version": 3
   },
   "file_extension": ".py",
   "mimetype": "text/x-python",
   "name": "python",
   "nbconvert_exporter": "python",
   "pygments_lexer": "ipython3",
   "version": "3.6.4"
  }
 },
 "nbformat": 4,
 "nbformat_minor": 2
}
