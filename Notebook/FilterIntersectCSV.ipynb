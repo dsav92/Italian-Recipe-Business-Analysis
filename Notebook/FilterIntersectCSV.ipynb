{
 "cells": [
  {
   "cell_type": "code",
   "execution_count": null,
   "metadata": {
    "colab": {
     "autoexec": {
      "startup": false,
      "wait_interval": 0
     }
    },
    "colab_type": "code",
    "id": "PhwX7j9YIKEU"
   },
   "outputs": [],
   "source": [
    "import pandas as pd\n",
    "import csv\n",
    "import re\n",
    "import nltk\n",
    "import time\n",
    "from nltk.corpus import stopwords"
   ]
  },
  {
   "cell_type": "code",
   "execution_count": null,
   "metadata": {
    "colab": {
     "autoexec": {
      "startup": false,
      "wait_interval": 0
     }
    },
    "colab_type": "code",
    "id": "g-rLhZEoIKEg"
   },
   "outputs": [],
   "source": [
    "df = pd.read_csv('Dataset/Nuovi/Clean/Recipes_Da_ALL_Clean.csv',sep='delimiter', header=None, encoding='utf-8', engine='python')\n",
    "df_1 = pd.read_csv('Dataset/Nuovi/Clean/Recipes_An_ALL_Clean.csv',sep='delimiter', header=None, encoding='utf-8', engine='python')\n",
    "df_2 = pd.read_csv('Dataset/Nuovi/Clean/Recipes_Ma_ALL_Clean.csv',sep='delimiter', header=None, encoding='utf-8', engine='python')\n",
    "df_3 = pd.read_csv('Dataset/Nuovi/Clean/Recipes_Leo_ALL_Clean.csv',sep='delimiter', header=None, encoding='utf-8', engine='python')\n",
    "df_4 = pd.read_csv('Dataset/Nuovi/Clean/Recipes_Art_ALL_Clean.csv',sep='delimiter', header=None, encoding='utf-8',engine='python')\n",
    "df_nomi = pd.read_csv('NomiPropriPersona.csv',sep='delimiter', header=None, encoding='utf-8', engine='python')"
   ]
  },
  {
   "cell_type": "code",
   "execution_count": null,
   "metadata": {
    "colab": {
     "autoexec": {
      "startup": false,
      "wait_interval": 0
     }
    },
    "colab_type": "code",
    "id": "_w0qIt8_IKEm"
   },
   "outputs": [],
   "source": [
    "stopWords = set(stopwords.words('italian'))"
   ]
  },
  {
   "cell_type": "code",
   "execution_count": null,
   "metadata": {
    "colab": {
     "autoexec": {
      "startup": false,
      "wait_interval": 0
     }
    },
    "colab_type": "code",
    "id": "4OdVCpOZIKEs"
   },
   "outputs": [],
   "source": [
    "list_df = [df, df_1, df_2, df_3, df_4]"
   ]
  },
  {
   "cell_type": "code",
   "execution_count": null,
   "metadata": {
    "colab": {
     "autoexec": {
      "startup": false,
      "wait_interval": 0
     }
    },
    "colab_type": "code",
    "id": "B-HIophdIKEz"
   },
   "outputs": [],
   "source": [
    "l_nomi = set()\n",
    "\n",
    "for elem in df_nomi[0]:\n",
    "    name = elem.lower()\n",
    "    l_nomi.add(name)\n",
    "    "
   ]
  },
  {
   "cell_type": "code",
   "execution_count": null,
   "metadata": {
    "colab": {
     "autoexec": {
      "startup": false,
      "wait_interval": 0
     }
    },
    "colab_type": "code",
    "id": "LSp8q_fxIKE3"
   },
   "outputs": [],
   "source": [
    "recipes = []      #lista con tutte le ricette\n",
    "for elem in df_5[0]:\n",
    "    recipes.append(elem)"
   ]
  },
  {
   "cell_type": "code",
   "execution_count": null,
   "metadata": {
    "colab": {
     "autoexec": {
      "startup": false,
      "wait_interval": 0
     }
    },
    "colab_type": "code",
    "id": "h-Fu0QDCIKE8"
   },
   "outputs": [],
   "source": [
    "#elimina i nomi di persona dalle ricette presenti nel dataset ed eventuali stopword che li precedono\n",
    "\n",
    "def delete_name():\n",
    "        \n",
    "    for (i,elem) in enumerate(recipes):\n",
    "        temp = elem.split()\n",
    "        for word in temp:\n",
    "            for name in l_nomi:\n",
    "                if(name==word):\n",
    "                    pos = temp.index(name)\n",
    "                    recipes[i] = elem.replace(word, ' ')\n",
    "                    if(temp[pos-1] in stopWords):\n",
    "                        recipes[i] = elem.replace(temp[pos-1], ' ')"
   ]
  },
  {
   "cell_type": "code",
   "execution_count": null,
   "metadata": {
    "colab": {
     "autoexec": {
      "startup": false,
      "wait_interval": 0
     }
    },
    "colab_type": "code",
    "id": "mic4w1s8IKFC"
   },
   "outputs": [],
   "source": [
    "#rimuove le stopWord all'interno della stringa data in input\n",
    "\n",
    "def remove_stopW(st):\n",
    "    for word in st.split():\n",
    "        if(word in stopWords):\n",
    "            st = st.replace(word,'')\n",
    "    return st"
   ]
  },
  {
   "cell_type": "code",
   "execution_count": null,
   "metadata": {
    "colab": {
     "autoexec": {
      "startup": false,
      "wait_interval": 0
     }
    },
    "colab_type": "code",
    "id": "k47aFf7fIKFI"
   },
   "outputs": [],
   "source": [
    "stop = 'ricetta'\n",
    "stop_1 = 'ricette'\n",
    "split = []      #lista in cui viene memorizzata la stringa splittata (right & left) con la sua componente equivalente privata di stopword\n",
    "\n",
    "def delete_doubleP(ls):\n",
    "    \n",
    "    for elem in ls:\n",
    "        if(\":\" in elem):\n",
    "            left = elem.split(\":\")[0]\n",
    "            right = elem.split(\":\")[1]\n",
    "                                    \n",
    "            ls.remove(elem)\n",
    "\n",
    "            if(stop in left.split() or stop_1 in left.split()):\n",
    "                ls.append(right)\n",
    "            elif(stop in right.split() or stop_1 in right.split()):\n",
    "                ls.append(left)\n",
    "            else:\n",
    "                left_no_stop = remove_stopW(left)\n",
    "                split.append((left,left_no_stop))\n",
    "                right_no_stop = remove_stopW(right)\n",
    "                split.append((right,right_no_stop))"
   ]
  },
  {
   "cell_type": "code",
   "execution_count": null,
   "metadata": {
    "colab": {
     "autoexec": {
      "startup": false,
      "wait_interval": 0
     }
    },
    "colab_type": "code",
    "id": "1ibFbUj5IKFO"
   },
   "outputs": [],
   "source": [
    "delete_name()"
   ]
  },
  {
   "cell_type": "code",
   "execution_count": null,
   "metadata": {
    "colab": {
     "autoexec": {
      "startup": false,
      "wait_interval": 0
     }
    },
    "colab_type": "code",
    "id": "mkwZFmmrIKFZ"
   },
   "outputs": [],
   "source": [
    "delete_name()"
   ]
  },
  {
   "cell_type": "code",
   "execution_count": null,
   "metadata": {
    "colab": {
     "autoexec": {
      "startup": false,
      "wait_interval": 0
     }
    },
    "colab_type": "code",
    "id": "C_diDNNSIKFe"
   },
   "outputs": [],
   "source": [
    "delete_name()"
   ]
  },
  {
   "cell_type": "code",
   "execution_count": null,
   "metadata": {
    "colab": {
     "autoexec": {
      "startup": false,
      "wait_interval": 0
     }
    },
    "colab_type": "code",
    "id": "qNU3sHUFIKFl"
   },
   "outputs": [],
   "source": [
    "#crea il set contenente tutte le parole che si riferiscono a delle ricette, escluse le stopword\n",
    "\n",
    "r_set = set()\n",
    "\n",
    "for elem in recipes:\n",
    "    for word in elem.split():\n",
    "        if(word not in stopWords):\n",
    "            r_set.add(word)\n",
    "print(r_set.intersection(l_nomi))"
   ]
  },
  {
   "cell_type": "code",
   "execution_count": null,
   "metadata": {
    "colab": {
     "autoexec": {
      "startup": false,
      "wait_interval": 0
     }
    },
    "colab_type": "code",
    "id": "LQskj4kPIKFr"
   },
   "outputs": [],
   "source": [
    "delete_doubleP(recipes)"
   ]
  },
  {
   "cell_type": "code",
   "execution_count": null,
   "metadata": {
    "colab": {
     "autoexec": {
      "startup": false,
      "wait_interval": 0
     }
    },
    "colab_type": "code",
    "id": "8_0sN_bsIKFv"
   },
   "outputs": [],
   "source": [
    "print(len(split),len(recipes))"
   ]
  },
  {
   "cell_type": "code",
   "execution_count": null,
   "metadata": {
    "colab": {
     "autoexec": {
      "startup": false,
      "wait_interval": 0
     }
    },
    "colab_type": "code",
    "id": "xj2jRr7-IKFz"
   },
   "outputs": [],
   "source": [
    "#crea il set delle parole contenute nelle stringhe splittate per poi confrontarlo con il dizionario (set) di tutte le ricette attraverso un'operazione di intersezione\n",
    "#inserendo poi nella lista globale solo gli elementi che effettivamente rappresentano delle ricette\n",
    "\n",
    "for elem in split:\n",
    "    temp_set = set()\n",
    "    for word in elem[1].split():\n",
    "        temp_set.add(word)\n",
    "    if(r_set.intersection(temp_set)):\n",
    "        recipes.append(elem[0])"
   ]
  },
  {
   "cell_type": "code",
   "execution_count": null,
   "metadata": {
    "colab": {
     "autoexec": {
      "startup": false,
      "wait_interval": 0
     }
    },
    "colab_type": "code",
    "id": "aKL5mx-DIKF4"
   },
   "outputs": [],
   "source": [
    "print(len(split),len(recipes))"
   ]
  },
  {
   "cell_type": "code",
   "execution_count": null,
   "metadata": {
    "colab": {
     "autoexec": {
      "startup": false,
      "wait_interval": 0
     }
    },
    "colab_type": "code",
    "id": "uHM0iOZvIKF8"
   },
   "outputs": [],
   "source": [
    "#fornisce l'unione dei diversi csv creati attraverso l'estrazione dai siti, eliminando i duplicati\n",
    "\n",
    "def getIntersect(ls):\n",
    "    \n",
    "    inter = set()\n",
    "    \n",
    "    for elem in ls[0][0]:\n",
    "        inter.add(elem)\n",
    "        \n",
    "    for i in range(1,len(ls)):\n",
    "        temp = set()\n",
    "        \n",
    "        for j in range(0,len(ls[i][0])):\n",
    "            temp.add(ls[i][0][j])\n",
    "            \n",
    "        inter = inter.union(temp)\n",
    "        \n",
    "    return inter"
   ]
  },
  {
   "cell_type": "code",
   "execution_count": null,
   "metadata": {
    "colab": {
     "autoexec": {
      "startup": false,
      "wait_interval": 0
     }
    },
    "colab_type": "code",
    "id": "hBib2uQ3IKGD"
   },
   "outputs": [],
   "source": [
    "intersect = getIntersect(list_df)"
   ]
  },
  {
   "cell_type": "code",
   "execution_count": null,
   "metadata": {
    "colab": {
     "autoexec": {
      "startup": false,
      "wait_interval": 0
     }
    },
    "colab_type": "code",
    "id": "LiDLCOokIKGI"
   },
   "outputs": [],
   "source": [
    "recipes_1 = []\n",
    "\n",
    "#pulisce il dataset eliminando caratteri speciali, punteggiatura, numerici e trasforma tutti i caratteri in minuscolo (non serve)\n",
    "\n",
    "for recipe in intersect:\n",
    "    #if(recipe != \"recipes\" and recipe != \"Recipes\"):\n",
    "        #temp = re.sub(u'[^a-zA-Z0-9àèùòìáéíóúÁÉÍÓÚâêîôÂÊÎÔõÃÕçÇ: ]', ' ', recipe)\n",
    "        #temp = re.sub('[0-9]', ' ', temp)\n",
    "        #recipe = temp\n",
    "    recipes_1.append(recipe)"
   ]
  },
  {
   "cell_type": "code",
   "execution_count": null,
   "metadata": {
    "colab": {
     "autoexec": {
      "startup": false,
      "wait_interval": 0
     }
    },
    "colab_type": "code",
    "id": "jxwOa6LMIKGP",
    "outputId": "c17bd7ef-2931-4331-ee0c-486395b33e14"
   },
   "outputs": [
    {
     "data": {
      "text/plain": [
       "47958"
      ]
     },
     "execution_count": 31,
     "metadata": {
      "tags": []
     },
     "output_type": "execute_result"
    }
   ],
   "source": [
    "len(recipes_1)"
   ]
  },
  {
   "cell_type": "code",
   "execution_count": null,
   "metadata": {
    "colab": {
     "autoexec": {
      "startup": false,
      "wait_interval": 0
     }
    },
    "colab_type": "code",
    "id": "Ohqsf1ZpIKGe",
    "outputId": "d0b8051e-f6d9-4ae7-b12c-7899b9bc56ea"
   },
   "outputs": [
    {
     "data": {
      "text/plain": [
       "0"
      ]
     },
     "execution_count": 34,
     "metadata": {
      "tags": []
     },
     "output_type": "execute_result"
    }
   ],
   "source": [
    "csvFilename = \"Dataset/Nuovi/Clean/Recipes_ALL_Clean.csv\"  # what name you want to save your csv as\n",
    "csv = open(csvFilename, \"w\", encoding = \"utf-8\")  # create or open csv, \"w\" to write strings\n",
    "csv.write('')"
   ]
  },
  {
   "cell_type": "code",
   "execution_count": null,
   "metadata": {
    "colab": {
     "autoexec": {
      "startup": false,
      "wait_interval": 0
     }
    },
    "colab_type": "code",
    "id": "FLr_oZNRIKGj"
   },
   "outputs": [],
   "source": [
    "for recipe in recipes_1:\n",
    "    csv.write(recipe + \"\\n\")"
   ]
  },
  {
   "cell_type": "code",
   "execution_count": null,
   "metadata": {
    "colab": {
     "autoexec": {
      "startup": false,
      "wait_interval": 0
     }
    },
    "colab_type": "code",
    "id": "4v2xegpAIKGo"
   },
   "outputs": [],
   "source": []
  }
 ],
 "metadata": {
  "colab": {
   "default_view": {},
   "name": "FilterIntersectCSV.ipynb",
   "provenance": [],
   "version": "0.3.2",
   "views": {}
  },
  "kernelspec": {
   "display_name": "Python 3",
   "language": "python",
   "name": "python3"
  },
  "language_info": {
   "codemirror_mode": {
    "name": "ipython",
    "version": 3
   },
   "file_extension": ".py",
   "mimetype": "text/x-python",
   "name": "python",
   "nbconvert_exporter": "python",
   "pygments_lexer": "ipython3",
   "version": "3.6.4"
  }
 },
 "nbformat": 4,
 "nbformat_minor": 2
}
